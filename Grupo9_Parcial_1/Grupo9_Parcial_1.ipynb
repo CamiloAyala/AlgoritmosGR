{
  "nbformat": 4,
  "nbformat_minor": 0,
  "metadata": {
    "colab": {
      "name": "Grupo9_Parcial_1.ipynb",
      "provenance": [],
      "collapsed_sections": [],
      "include_colab_link": true
    },
    "kernelspec": {
      "name": "python3",
      "display_name": "Python 3"
    },
    "language_info": {
      "name": "python"
    }
  },
  "cells": [
    {
      "cell_type": "markdown",
      "metadata": {
        "id": "view-in-github",
        "colab_type": "text"
      },
      "source": [
        "<a href=\"https://colab.research.google.com/github/icaseres/AlgoritmosGR/blob/main/Grupo9_Parcial_1/Grupo9_Parcial_1.ipynb\" target=\"_parent\"><img src=\"https://colab.research.google.com/assets/colab-badge.svg\" alt=\"Open In Colab\"/></a>"
      ]
    },
    {
      "cell_type": "markdown",
      "metadata": {
        "id": "cEiuNbYXhLUT"
      },
      "source": [
        "# 1.Multiplicación por Metodo de la russe"
      ]
    },
    {
      "cell_type": "code",
      "metadata": {
        "id": "ihHMzrv0hLUV",
        "colab": {
          "base_uri": "https://localhost:8080/"
        },
        "outputId": "7718b8e9-af5a-4f93-d642-2efd89b10a64"
      },
      "source": [
        "import time\n",
        "#\n",
        "sumador=0\n",
        "multiplicador=int(input(\"Ingrese el primer número (positvo y de max. 5 dígitos): \"))\n",
        "while(multiplicador < 0 or multiplicador >= 100000):\n",
        "  multiplicador=int(input(\"Error: Ingrese el primer número nuevamente: \"))\n",
        "\n",
        "multiplicando=int(input(\"Ingrese el segundo número (positvo y de max. 5 dígitos): \"))\n",
        "while(multiplicando < 0 or multiplicando >= 100000):\n",
        "  multiplicando=int(input(\"Error: Ingrese el segundo número nuevamente: \"))\n",
        "\n",
        "inicio=time.time()\n",
        "while (multiplicador>0):\n",
        "\n",
        "  \"\"\"\"\n",
        "  Si el `multiplicador` toma un valor impar (su LSB es 1) al dividirlo \n",
        "  entre 2, entonces al resultado se le suma el valor que tenga en ese \n",
        "  momento el `multiplicando`\n",
        "  \"\"\"\n",
        "  if (multiplicador & 1):\n",
        "    sumador = sumador + multiplicando\n",
        "    \n",
        "  \"\"\"\n",
        "  Actualizar el valor del `multiplicador` dividiendolo por 2:\n",
        "  en binario básicamente es 7_10 que es 111_2 al correr los bits a\n",
        "  a la derecha 1 espacio quitando el LSB entonces 7_10 quedaría 11_2 \n",
        "  que ahora sería 3_10\n",
        "  \"\"\"    \n",
        "  multiplicador >>= 1\n",
        "\n",
        "  \"\"\"\n",
        "  Actualizar el valor del `multiplicando` multiplicándolo por 2:\n",
        "  en binario básicamente es 7_10 que es 111_2 al correr los bits a\n",
        "  a la izquierda 1 espacio agregando un 0 en el LSB entonces 7_10 quedaría 1110_2 \n",
        "  que ahora sería 14_10\n",
        "  \"\"\"     \n",
        "  multiplicando <<= 1\n",
        "  \n",
        "fin=time.time()\n",
        "print(\"El resultado es: \",sumador)\n",
        "print(\"El tiempo que toma el algoritmo es: %.10f segundos\"% (fin-inicio))"
      ],
      "execution_count": 9,
      "outputs": [
        {
          "output_type": "stream",
          "name": "stdout",
          "text": [
            "Ingrese el primer número (positvo y de max. 5 dígitos): -99999\n",
            "Error: Ingrese el primer número nuevamente: 99999\n",
            "Ingrese el segundo número (positvo y de max. 5 dígitos): -99999\n",
            "Error: Ingrese el segundo número nuevamente: 99999\n",
            "El resultado es:  9999800001\n",
            "El tiempo que toma el algoritmo es: 0.0001189709 segundos\n"
          ]
        }
      ]
    },
    {
      "cell_type": "markdown",
      "metadata": {
        "id": "J-majO2yTuNI"
      },
      "source": [
        "# 3.Serie de Fibonacci mediante iteración"
      ]
    },
    {
      "cell_type": "code",
      "metadata": {
        "id": "aK6xb6PDbr3Z",
        "colab": {
          "base_uri": "https://localhost:8080/"
        },
        "outputId": "0f23c52f-0361-4b07-d4f9-35b76519ec2d"
      },
      "source": [
        "import time\n",
        "\n",
        "n=int(input(\"Ingrese un número menor o igual a 100: \"))\n",
        "while n > 100:\n",
        "  n=int(input(\"Ingrese un número válido: \"))\n",
        "  \n",
        "inicio=time.time()\n",
        "actual = 0\n",
        "siguiente = 1\n",
        "\n",
        "for k in range(n):\n",
        "    # guardamos la suma\n",
        "    \"\"\"\n",
        "    Aquí `siguiente` es i_{n-2} porque esta desactualizado. Consecuentemente `actual`\n",
        "    es i_{n-1}. Guardamos en memoria la suma i_{n-2} + i_{n-1} que seria i_{n} ...\n",
        "    \"\"\"\n",
        "    suma = actual + siguiente  # (i_{n-2} + i_{n-1})\n",
        "    \"\"\"\n",
        "    Ahora corremos i_{n-1} a i_{n-2}\n",
        "    \"\"\"\n",
        "    actual = siguiente #\n",
        "    \"\"\"\n",
        "    y i_{n-1} ahora tiene el valor de i_{n}, es decir, el valor de (i_{n-2} + i_{n-1})\n",
        "    \"\"\"\n",
        "    siguiente = suma # n+1 = (n-1 + n)\n",
        "    \n",
        "fin=time.time()\n",
        "print(\"El resultado es: \",actual)\n",
        "print(\"El tiempo que toma el algoritmo es: %.10f segundos\"% (fin-inicio))"
      ],
      "execution_count": 34,
      "outputs": [
        {
          "output_type": "stream",
          "name": "stdout",
          "text": [
            "Ingrese un número menor o igual a 100: 100\n",
            "El resultado es:  354224848179261915075\n",
            "El tiempo que toma el algoritmo es: 0.0001451969 segundos\n"
          ]
        }
      ]
    }
  ]
}